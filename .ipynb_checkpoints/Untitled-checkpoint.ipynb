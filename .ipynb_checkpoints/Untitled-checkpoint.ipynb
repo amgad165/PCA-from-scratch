{
 "cells": [
  {
   "cell_type": "code",
   "execution_count": null,
   "id": "cad215a0",
   "metadata": {},
   "outputs": [],
   "source": [
    "import numpy as np\n",
    "import matplotlib.pyplot as plt\n",
    "from sklearn.datasets import fetch_openml\n",
    "\n",
    "# Load the MNIST dataset\n",
    "mnist = fetch_openml('mnist_784', version=1)\n",
    "X = mnist[\"data\"]\n",
    "y = mnist[\"target\"]\n",
    "\n",
    "# Compute the mean of each feature\n",
    "mean = np.mean(X, axis=0)\n",
    "\n",
    "# Center the data by subtracting the mean\n",
    "X_centered = X - mean\n",
    "\n",
    "# Compute the covariance matrix\n",
    "cov_matrix = np.cov(X_centered.T)\n",
    "\n",
    "# Compute the eigenvectors and eigenvalues of the covariance matrix\n",
    "eig_values, eig_vectors = np.linalg.eig(cov_matrix)\n",
    "\n",
    "# Sort the eigenvalues and eigenvectors in descending order\n",
    "idx = np.argsort(eig_values)[::-1]\n",
    "eig_values = eig_values[idx]\n",
    "eig_vectors = eig_vectors[:, idx]\n",
    "\n",
    "# Select the top k eigenvectors\n",
    "k = 100\n",
    "top_k_eig_vectors = eig_vectors[:, :k]\n",
    "\n",
    "# Compute the principal components\n",
    "principal_components = np.dot(X_centered, top_k_eig_vectors)\n",
    "\n",
    "# Project the original data onto the principal components\n",
    "X_projected = np.dot(principal_components, top_k_eig_vectors.T) + mean\n",
    "\n",
    "# Plot the original image and the reconstructed image\n",
    "fig, (ax1, ax2) = plt.subplots(1, 2, figsize=(8, 4))\n",
    "ax1.imshow(X[0].reshape(28, 28), cmap='gray')\n",
    "ax1.set_title('Original Image')\n",
    "ax2.imshow(X_projected[0].reshape(28, 28), cmap='gray')\n",
    "ax2.set_title('Reconstructed Image')\n",
    "plt.show()"
   ]
  }
 ],
 "metadata": {
  "kernelspec": {
   "display_name": "Python 3 (ipykernel)",
   "language": "python",
   "name": "python3"
  },
  "language_info": {
   "codemirror_mode": {
    "name": "ipython",
    "version": 3
   },
   "file_extension": ".py",
   "mimetype": "text/x-python",
   "name": "python",
   "nbconvert_exporter": "python",
   "pygments_lexer": "ipython3",
   "version": "3.9.7"
  }
 },
 "nbformat": 4,
 "nbformat_minor": 5
}
